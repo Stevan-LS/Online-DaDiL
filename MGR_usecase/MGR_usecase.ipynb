{
 "cells": [
  {
   "cell_type": "code",
   "execution_count": 2,
   "metadata": {},
   "outputs": [],
   "source": [
    "import numpy as np\n",
    "import json"
   ]
  },
  {
   "cell_type": "code",
   "execution_count": 13,
   "metadata": {},
   "outputs": [],
   "source": [
    "dataset = np.load('MGR.npy')\n",
    "domain_names = ['Noiseless', \"buccaneer2\", \"destroyerengine\", \"f16\", \"factory2\"]"
   ]
  },
  {
   "cell_type": "code",
   "execution_count": 65,
   "metadata": {},
   "outputs": [],
   "source": [
    "data_noiseless = dataset[:1000, :]\n",
    "\n",
    "# separation between training and validation data\n",
    "data_noiseless = np.random.permutation(data_noiseless)\n",
    "\n",
    "\n",
    "\n",
    "# Features of the noiseless data\n",
    "X_noiseless = data_noiseless[:, :-2]\n",
    "# 17th feature is only zeros\n",
    "X_noiseless = np.delete(X_noiseless, 17, axis=1)\n",
    "# Labels of the noiseless data\n",
    "y_noiseless = data_noiseless[:, -2]"
   ]
  },
  {
   "cell_type": "code",
   "execution_count": null,
   "metadata": {},
   "outputs": [],
   "source": []
  },
  {
   "cell_type": "code",
   "execution_count": 86,
   "metadata": {},
   "outputs": [
    {
     "data": {
      "text/plain": [
       "array([[0.34190866, 0.60149172, 0.61723551, 0.28183164, 0.41352666],\n",
       "       [0.71193772, 0.37980156, 0.51971326, 0.68989024, 0.98522718],\n",
       "       [0.15790761, 0.79822363, 0.48865563, 0.36900944, 0.53345595],\n",
       "       [0.94132688, 0.56840984, 0.92156459, 0.02208191, 0.30160662],\n",
       "       [0.31584744, 0.03730789, 0.67131304, 0.7620791 , 0.30243842]])"
      ]
     },
     "execution_count": 86,
     "metadata": {},
     "output_type": "execute_result"
    }
   ],
   "source": [
    "t = np.random.rand(5,5 )\n",
    "t"
   ]
  },
  {
   "cell_type": "code",
   "execution_count": 84,
   "metadata": {},
   "outputs": [],
   "source": [
    "np.random.shuffle(t)"
   ]
  },
  {
   "cell_type": "code",
   "execution_count": 85,
   "metadata": {},
   "outputs": [
    {
     "data": {
      "text/plain": [
       "array([[0.78811533, 0.72072899, 0.64581112, 0.50338227, 0.12728004],\n",
       "       [0.22963338, 0.5673923 , 0.13286308, 0.93405028, 0.84353401],\n",
       "       [0.22696679, 0.40808377, 0.6043535 , 0.68897121, 0.17756857],\n",
       "       [0.09618514, 0.87506732, 0.63884204, 0.11701338, 0.73120034],\n",
       "       [0.36740614, 0.386501  , 0.76946475, 0.16909308, 0.26756808]])"
      ]
     },
     "execution_count": 85,
     "metadata": {},
     "output_type": "execute_result"
    }
   ],
   "source": [
    "t"
   ]
  }
 ],
 "metadata": {
  "kernelspec": {
   "display_name": "Python 3",
   "language": "python",
   "name": "python3"
  },
  "language_info": {
   "codemirror_mode": {
    "name": "ipython",
    "version": 3
   },
   "file_extension": ".py",
   "mimetype": "text/x-python",
   "name": "python",
   "nbconvert_exporter": "python",
   "pygments_lexer": "ipython3",
   "version": "3.11.5"
  }
 },
 "nbformat": 4,
 "nbformat_minor": 2
}
