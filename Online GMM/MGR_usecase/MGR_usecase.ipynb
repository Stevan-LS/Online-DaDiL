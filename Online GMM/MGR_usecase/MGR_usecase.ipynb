{
 "cells": [
  {
   "cell_type": "code",
   "execution_count": 1,
   "metadata": {},
   "outputs": [],
   "source": [
    "import numpy as np\n",
    "import torch\n",
    "from scipy.stats import multivariate_normal\n",
    "from OGMM import OGMM, init_cov_and_T_split\n",
    "from sklearn.mixture import GaussianMixture\n",
    "from scipy.special import logsumexp\n",
    "\n",
    "from sklearn.decomposition import PCA\n",
    "from sklearn.manifold import LocallyLinearEmbedding\n",
    "from sklearn.preprocessing import StandardScaler\n",
    "from sklearn.neighbors import NearestNeighbors\n",
    "from sklearn.svm import SVC, LinearSVC\n",
    "from sklearn.ensemble import RandomForestClassifier\n",
    "from sklearn.naive_bayes import GaussianNB\n",
    "from sklearn.model_selection import train_test_split\n",
    "from sklearn.metrics import accuracy_score"
   ]
  },
  {
   "cell_type": "code",
   "execution_count": 2,
   "metadata": {},
   "outputs": [],
   "source": [
    "dataset = np.load('MGR.npy')\n",
    "domain_names = ['Noiseless', \"buccaneer2\", \"destroyerengine\", \"f16\", \"factory2\"]"
   ]
  },
  {
   "cell_type": "code",
   "execution_count": 3,
   "metadata": {},
   "outputs": [],
   "source": [
    "data_noiseless = dataset[:1000, :]\n",
    "# feature column 17 is only zeros\n",
    "data_noiseless = np.delete(data_noiseless, 17, axis=1)\n",
    "\n",
    "# separation between training and validation data\n",
    "data_noiseless = np.random.permutation(data_noiseless)\n",
    "prop_train = 0.8\n",
    "data_train = data_noiseless[:int(prop_train * len(data_noiseless)), :]\n",
    "data_test = data_noiseless[int(prop_train * len(data_noiseless)):, :]\n",
    "\n",
    "\n",
    "# Features of the noiseless data\n",
    "X_train = data_train[:, :-2]\n",
    "X_train_t = torch.from_numpy(X_train)\n",
    "X_test = data_test[:, :-2]\n",
    "X_test_t = torch.from_numpy(X_test)\n",
    "\n",
    "# Labels of the noiseless data\n",
    "y_train = data_train[:, -2]\n",
    "y_test = data_test[:, -2]"
   ]
  },
  {
   "cell_type": "markdown",
   "metadata": {},
   "source": [
    "## Log likelihood function"
   ]
  },
  {
   "cell_type": "code",
   "execution_count": 241,
   "metadata": {},
   "outputs": [],
   "source": [
    "GMM_sklearn = GaussianMixture(n_components=10, random_state=0).fit(X_train)"
   ]
  },
  {
   "cell_type": "code",
   "execution_count": 242,
   "metadata": {},
   "outputs": [
    {
     "data": {
      "text/plain": [
       "-48604.62995748929"
      ]
     },
     "execution_count": 242,
     "metadata": {},
     "output_type": "execute_result"
    }
   ],
   "source": [
    "np.sum(GMM_sklearn.score_samples(X_test))"
   ]
  },
  {
   "cell_type": "code",
   "execution_count": 243,
   "metadata": {},
   "outputs": [],
   "source": [
    "def normal_pdf(x, mean, cov, bib='numpy'):\n",
    "    if bib == 'numpy':\n",
    "        return (2*np.pi)**(-len(x)/2) * np.linalg.det(cov)**(-1/2) * np.exp(-1/2 * (x - mean).T @ np.linalg.inv(cov) @ (x - mean))\n",
    "    else:\n",
    "        return (2*torch.pi)**(-len(x)/2) * torch.linalg.det(cov)**(-1/2) * torch.exp(-1/2 * (x - mean).T @ torch.inverse(cov) @ (x - mean))\n",
    "\n",
    "def log_normal_pdf(x, mean, cov, bib='numpy'):\n",
    "    if bib == 'numpy':\n",
    "        return -len(x)/2*np.log(2*np.pi) - 1/2*(np.log(np.linalg.det(cov)) + (x - mean).T @ np.linalg.inv(cov) @ (x - mean))\n",
    "    else:\n",
    "        return -len(x)/2*torch.log(torch.tensor(2*torch.pi)) - 1/2*(torch.log(torch.linalg.det(cov)) + (x - mean).T @ torch.inverse(cov) @ (x - mean))"
   ]
  },
  {
   "cell_type": "code",
   "execution_count": 244,
   "metadata": {},
   "outputs": [],
   "source": [
    "def log_likelihood(mixture, X, bib='numpy'):\n",
    "    log_pdf = np.zeros((X.shape[0], len(mixture)))\n",
    "    for i in range(X.shape[0]):\n",
    "        for j in range(len(mixture)):\n",
    "            log_pdf[i, j] = np.log(mixture[j][0]) + log_normal_pdf(X[i], mixture[j][2], mixture[j][3], bib)\n",
    "            \n",
    "    return np.sum(logsumexp(log_pdf, axis=1))"
   ]
  },
  {
   "cell_type": "code",
   "execution_count": 245,
   "metadata": {},
   "outputs": [],
   "source": [
    "means = GMM_sklearn.means_\n",
    "weights = GMM_sklearn.weights_\n",
    "cov = GMM_sklearn.covariances_\n",
    "GMM_sklearn_list = [[weights[i], 1, means[i], cov[i]] for i in range(len(weights))]"
   ]
  },
  {
   "cell_type": "code",
   "execution_count": 246,
   "metadata": {},
   "outputs": [
    {
     "data": {
      "text/plain": [
       "-48604.62995748904"
      ]
     },
     "execution_count": 246,
     "metadata": {},
     "output_type": "execute_result"
    }
   ],
   "source": [
    "ll_sklearn = log_likelihood(GMM_sklearn_list, X_test)\n",
    "ll_sklearn"
   ]
  },
  {
   "cell_type": "code",
   "execution_count": 247,
   "metadata": {},
   "outputs": [
    {
     "name": "stderr",
     "output_type": "stream",
     "text": [
      "C:\\Users\\SL276123\\AppData\\Local\\Packages\\PythonSoftwareFoundation.Python.3.11_qbz5n2kfra8p0\\LocalCache\\local-packages\\Python311\\site-packages\\numpy\\linalg\\linalg.py:2140: RuntimeWarning: overflow encountered in cast\n",
      "  r = r.astype(result_t, copy=False)\n"
     ]
    },
    {
     "ename": "KeyboardInterrupt",
     "evalue": "",
     "output_type": "error",
     "traceback": [
      "\u001b[1;31m---------------------------------------------------------------------------\u001b[0m",
      "\u001b[1;31mKeyboardInterrupt\u001b[0m                         Traceback (most recent call last)",
      "\u001b[1;32mc:\\Users\\SL276123\\Documents\\Online DaDiL\\Online GMM\\MGR_usecase\\MGR_usecase.ipynb Cell 11\u001b[0m line \u001b[0;36m5\n\u001b[0;32m      <a href='vscode-notebook-cell:/c%3A/Users/SL276123/Documents/Online%20DaDiL/Online%20GMM/MGR_usecase/MGR_usecase.ipynb#X13sZmlsZQ%3D%3D?line=2'>3</a>\u001b[0m K_max \u001b[39m=\u001b[39m \u001b[39m10\u001b[39m\n\u001b[0;32m      <a href='vscode-notebook-cell:/c%3A/Users/SL276123/Documents/Online%20DaDiL/Online%20GMM/MGR_usecase/MGR_usecase.ipynb#X13sZmlsZQ%3D%3D?line=3'>4</a>\u001b[0m cov_init, T_split \u001b[39m=\u001b[39m init_cov_and_T_split(K_max, range_data, X_train\u001b[39m.\u001b[39mshape[\u001b[39m1\u001b[39m])\n\u001b[1;32m----> <a href='vscode-notebook-cell:/c%3A/Users/SL276123/Documents/Online%20DaDiL/Online%20GMM/MGR_usecase/MGR_usecase.ipynb#X13sZmlsZQ%3D%3D?line=4'>5</a>\u001b[0m GMM_online \u001b[39m=\u001b[39m OGMM(X_train_t, K_max, cov_init, \u001b[39m0.1\u001b[39;49m, T_split)\n",
      "File \u001b[1;32mc:\\Users\\SL276123\\Documents\\Online DaDiL\\Online GMM\\MGR_usecase\\OGMM.py:63\u001b[0m, in \u001b[0;36mOGMM\u001b[1;34m(X, K_max, sigma0, alpha, T_split)\u001b[0m\n\u001b[0;32m     61\u001b[0m P \u001b[39m=\u001b[39m torch\u001b[39m.\u001b[39mzeros(\u001b[39mlen\u001b[39m(GMM))\n\u001b[0;32m     62\u001b[0m \u001b[39mfor\u001b[39;00m j \u001b[39min\u001b[39;00m \u001b[39mrange\u001b[39m(\u001b[39mlen\u001b[39m(GMM)):\n\u001b[1;32m---> 63\u001b[0m     P[j] \u001b[39m=\u001b[39m GMM[j][\u001b[39m0\u001b[39m] \u001b[39m*\u001b[39m normal_pdf(new_x, mean\u001b[39m=\u001b[39;49mGMM[j][\u001b[39m2\u001b[39;49m], cov\u001b[39m=\u001b[39;49mGMM[j][\u001b[39m3\u001b[39;49m])\n\u001b[0;32m     64\u001b[0m \u001b[39mif\u001b[39;00m \u001b[39mlen\u001b[39m(GMM) \u001b[39m>\u001b[39m \u001b[39m0\u001b[39m \u001b[39mand\u001b[39;00m torch\u001b[39m.\u001b[39msum(P) \u001b[39m==\u001b[39m \u001b[39m0\u001b[39m:\n\u001b[0;32m     65\u001b[0m     dist \u001b[39m=\u001b[39m [torch\u001b[39m.\u001b[39mdist(new_x, GMM[k][\u001b[39m2\u001b[39m], p\u001b[39m=\u001b[39m\u001b[39m2\u001b[39m) \u001b[39mfor\u001b[39;00m k \u001b[39min\u001b[39;00m \u001b[39mrange\u001b[39m(\u001b[39mlen\u001b[39m(GMM))]\n",
      "File \u001b[1;32mc:\\Users\\SL276123\\Documents\\Online DaDiL\\Online GMM\\MGR_usecase\\OGMM.py:55\u001b[0m, in \u001b[0;36mnormal_pdf\u001b[1;34m(x, mean, cov)\u001b[0m\n\u001b[0;32m     54\u001b[0m \u001b[39mdef\u001b[39;00m \u001b[39mnormal_pdf\u001b[39m(x, mean, cov):\n\u001b[1;32m---> 55\u001b[0m     \u001b[39mreturn\u001b[39;00m (\u001b[39m2\u001b[39m\u001b[39m*\u001b[39mnp\u001b[39m.\u001b[39mpi)\u001b[39m*\u001b[39m\u001b[39m*\u001b[39m(\u001b[39m-\u001b[39m\u001b[39mlen\u001b[39m(x)\u001b[39m/\u001b[39m\u001b[39m2\u001b[39m) \u001b[39m*\u001b[39m np\u001b[39m.\u001b[39mlinalg\u001b[39m.\u001b[39mdet(cov)\u001b[39m*\u001b[39m\u001b[39m*\u001b[39m(\u001b[39m-\u001b[39m\u001b[39m1\u001b[39m\u001b[39m/\u001b[39m\u001b[39m2\u001b[39m) \u001b[39m*\u001b[39m np\u001b[39m.\u001b[39;49mexp(\u001b[39m-\u001b[39;49m\u001b[39m1\u001b[39;49m\u001b[39m/\u001b[39;49m\u001b[39m2\u001b[39;49m \u001b[39m*\u001b[39;49m (x \u001b[39m-\u001b[39;49m mean)\u001b[39m.\u001b[39;49mT \u001b[39m@\u001b[39;49m np\u001b[39m.\u001b[39;49mlinalg\u001b[39m.\u001b[39;49minv(cov) \u001b[39m@\u001b[39;49m (x \u001b[39m-\u001b[39;49m mean))\n",
      "File \u001b[1;32m~\\AppData\\Local\\Packages\\PythonSoftwareFoundation.Python.3.11_qbz5n2kfra8p0\\LocalCache\\local-packages\\Python311\\site-packages\\torch\\_tensor.py:966\u001b[0m, in \u001b[0;36mTensor.__array__\u001b[1;34m(self, dtype)\u001b[0m\n\u001b[0;32m    963\u001b[0m \u001b[39m# Numpy array interface, to support `numpy.asarray(tensor) -> ndarray`\u001b[39;00m\n\u001b[0;32m    964\u001b[0m __array_priority__ \u001b[39m=\u001b[39m \u001b[39m1000\u001b[39m  \u001b[39m# prefer Tensor ops over numpy ones\u001b[39;00m\n\u001b[1;32m--> 966\u001b[0m \u001b[39mdef\u001b[39;00m \u001b[39m__array__\u001b[39m(\u001b[39mself\u001b[39m, dtype\u001b[39m=\u001b[39m\u001b[39mNone\u001b[39;00m):\n\u001b[0;32m    967\u001b[0m     \u001b[39mif\u001b[39;00m has_torch_function_unary(\u001b[39mself\u001b[39m):\n\u001b[0;32m    968\u001b[0m         \u001b[39mreturn\u001b[39;00m handle_torch_function(Tensor\u001b[39m.\u001b[39m__array__, (\u001b[39mself\u001b[39m,), \u001b[39mself\u001b[39m, dtype\u001b[39m=\u001b[39mdtype)\n",
      "\u001b[1;31mKeyboardInterrupt\u001b[0m: "
     ]
    }
   ],
   "source": [
    "range_data = np.mean(np.max(X_train, axis=0) - np.min(X_train, axis=0))\n",
    "\n",
    "K_max = 10\n",
    "cov_init, T_split = init_cov_and_T_split(K_max, range_data, X_train.shape[1])\n",
    "GMM_online = OGMM(X_train_t, K_max, cov_init, 0.1, T_split)"
   ]
  },
  {
   "cell_type": "code",
   "execution_count": null,
   "metadata": {},
   "outputs": [
    {
     "data": {
      "text/plain": [
       "[[tensor(0.1972),\n",
       "  tensor(132.),\n",
       "  tensor([ 3.7710e-01,  8.9506e-02,  1.4990e-01,  4.8999e-03,  2.2505e+03,\n",
       "           7.7174e+05,  2.4603e+03,  2.3505e+05,  4.8723e+03,  3.2094e+06,\n",
       "           9.0154e-02,  3.8775e-03, -4.7475e-04,  1.7263e-02, -5.6888e-04,\n",
       "           6.6868e-03,  1.1966e+02, -1.3400e+02,  4.3884e+03,  9.4404e+01,\n",
       "           1.0701e+03,  5.3889e+00,  5.4914e+02,  2.8903e+01,  2.7914e+02,\n",
       "           7.3139e+00,  2.2797e+02,  1.0353e+01,  1.6806e+02,  1.9417e-01,\n",
       "           1.4464e+02,  5.4422e+00,  1.0910e+02, -2.3530e+00,  1.0825e+02,\n",
       "           4.7494e+00,  9.9989e+01, -4.2052e+00,  8.0615e+01,  6.7147e-01,\n",
       "           7.1183e+01, -4.4381e+00,  7.0331e+01, -1.1898e-02,  6.5975e+01,\n",
       "          -3.0180e+00,  6.6007e+01, -1.3799e+00,  7.0075e+01, -2.0602e+00,\n",
       "           7.3649e+01, -7.4384e-01,  6.5961e+01, -1.1494e+00,  6.4027e+01,\n",
       "          -1.6824e+00,  7.5786e+01], dtype=torch.float64),\n",
       "  tensor([[ 6.4277e-03, -1.6144e-04,  7.9656e-04,  ..., -1.8153e+00,\n",
       "            2.7353e-02, -3.0012e+00],\n",
       "          [-1.6144e-04,  1.1923e-04,  7.6193e-05,  ...,  5.8877e-02,\n",
       "            3.2051e-03,  1.1029e-01],\n",
       "          [ 7.9656e-04,  7.6193e-05,  3.9614e-03,  ...,  5.9978e-03,\n",
       "            1.8364e-02,  5.5571e-02],\n",
       "          ...,\n",
       "          [-1.8153e+00,  5.8877e-02,  5.9978e-03,  ...,  9.4164e+02,\n",
       "            3.0982e+01,  1.3365e+03],\n",
       "          [ 2.7353e-02,  3.2051e-03,  1.8364e-02,  ...,  3.0982e+01,\n",
       "            1.3958e+01,  5.8034e+01],\n",
       "          [-3.0012e+00,  1.1029e-01,  5.5571e-02,  ...,  1.3365e+03,\n",
       "            5.8034e+01,  2.4603e+03]], dtype=torch.float64)],\n",
       " [tensor(0.0292),\n",
       "  tensor(110.),\n",
       "  tensor([ 3.8545e-01,  9.1821e-02,  1.4596e-01,  5.1362e-03,  2.5684e+03,\n",
       "           1.3877e+06,  2.8003e+03,  3.3038e+05,  5.6184e+03,  5.6838e+06,\n",
       "           1.0003e-01,  7.0097e-03, -2.4261e-04,  1.5790e-02, -2.0061e-04,\n",
       "           7.4553e-03,  1.2200e+02, -1.5480e+02,  5.6506e+03,  8.1663e+01,\n",
       "           1.4713e+03,  2.2938e+01,  8.2628e+02,  2.0596e+01,  3.5251e+02,\n",
       "           1.3632e+01,  2.3115e+02,  5.7950e+00,  1.9069e+02,  5.6582e+00,\n",
       "           1.5330e+02,  4.1249e+00,  1.2789e+02,  1.9144e+00,  1.1440e+02,\n",
       "           4.5008e+00,  1.1889e+02, -3.7933e-01,  1.0054e+02,  2.1105e+00,\n",
       "           8.6323e+01,  1.2670e+00,  9.2198e+01,  1.0970e+00,  7.7015e+01,\n",
       "           1.0698e+00,  8.2087e+01,  2.9486e-01,  7.7246e+01, -1.3535e+00,\n",
       "           8.1188e+01,  3.4109e-01,  7.5694e+01, -3.8002e-01,  8.1145e+01,\n",
       "          -1.8228e+00,  8.9978e+01], dtype=torch.float64),\n",
       "  tensor([[ 7.7420e-03, -2.0996e-06,  2.3328e-03,  ..., -2.0650e+00,\n",
       "            1.0465e-01, -3.7685e+00],\n",
       "          [-2.0996e-06,  1.0442e-03,  7.1640e-05,  ...,  4.1824e-02,\n",
       "           -2.0492e-03, -8.9178e-04],\n",
       "          [ 2.3328e-03,  7.1640e-05,  5.3785e-03,  ..., -6.1952e-01,\n",
       "            6.0653e-02, -2.0791e+00],\n",
       "          ...,\n",
       "          [-2.0650e+00,  4.1824e-02, -6.1952e-01,  ...,  1.3069e+03,\n",
       "           -9.9373e+00,  1.5096e+03],\n",
       "          [ 1.0465e-01, -2.0492e-03,  6.0653e-02,  ..., -9.9373e+00,\n",
       "            1.0803e+01, -5.9274e+01],\n",
       "          [-3.7685e+00, -8.9178e-04, -2.0791e+00,  ...,  1.5096e+03,\n",
       "           -5.9274e+01,  2.9266e+03]], dtype=torch.float64)],\n",
       " [tensor(0.1815),\n",
       "  tensor(111.),\n",
       "  tensor([ 3.8402e-01,  8.9012e-02,  1.4271e-01,  3.6262e-03,  2.3436e+03,\n",
       "           4.7814e+05,  2.3472e+03,  1.2442e+05,  4.9488e+03,  1.5266e+06,\n",
       "           1.0216e-01,  3.2435e-03, -1.5056e-04,  1.4847e-02, -3.8980e-04,\n",
       "           6.1176e-03,  1.1923e+02, -1.2562e+02,  3.7284e+03,  9.0428e+01,\n",
       "           7.4007e+02, -4.7005e+00,  5.7248e+02,  4.0016e+01,  2.8025e+02,\n",
       "          -3.0203e-01,  2.1942e+02,  1.5144e+01,  1.3841e+02, -2.3538e+00,\n",
       "           1.2573e+02,  1.0382e+01,  8.9525e+01, -5.3522e+00,  9.1020e+01,\n",
       "           7.1161e+00,  7.8995e+01, -4.4003e+00,  6.8015e+01,  3.0287e+00,\n",
       "           6.2159e+01, -4.3286e+00,  6.0816e+01,  6.5940e-01,  5.3077e+01,\n",
       "          -2.8496e+00,  5.2976e+01, -5.2021e-01,  5.0717e+01, -3.1376e+00,\n",
       "           5.4606e+01,  1.4324e-01,  5.2964e+01, -2.6829e+00,  5.5617e+01,\n",
       "          -2.1724e+00,  6.0703e+01], dtype=torch.float64),\n",
       "  tensor([[ 5.6422e-03, -1.3226e-04,  2.0607e-03,  ..., -5.4691e-02,\n",
       "            1.2889e-01, -4.4482e-01],\n",
       "          [-1.3226e-04,  9.4761e-04,  4.7660e-05,  ..., -1.4237e-02,\n",
       "           -4.0881e-04,  3.6622e-04],\n",
       "          [ 2.0607e-03,  4.7660e-05,  4.3809e-03,  ..., -3.0837e-01,\n",
       "           -7.7313e-03, -2.8157e-01],\n",
       "          ...,\n",
       "          [-5.4691e-02, -1.4237e-02, -3.0837e-01,  ...,  5.4785e+02,\n",
       "            2.1703e+01,  3.6649e+02],\n",
       "          [ 1.2889e-01, -4.0881e-04, -7.7313e-03,  ...,  2.1703e+01,\n",
       "            1.8836e+01,  5.5600e+00],\n",
       "          [-4.4482e-01,  3.6622e-04, -2.8157e-01,  ...,  3.6649e+02,\n",
       "            5.5600e+00,  5.1315e+02]], dtype=torch.float64)],\n",
       " [tensor(0.0002),\n",
       "  tensor(37.),\n",
       "  tensor([ 3.1636e-01,  7.9180e-02,  1.0872e-01,  7.5197e-04,  1.5845e+03,\n",
       "           5.3672e+04,  1.6769e+03,  3.8183e+04,  2.9823e+03,  1.9808e+05,\n",
       "           8.8671e-02,  4.7294e-04, -1.7178e-04,  1.2584e-02, -1.0776e-04,\n",
       "           3.0140e-03,  1.2539e+02, -2.1776e+02,  2.5500e+03,  1.3672e+02,\n",
       "           3.2624e+02, -1.8677e+01,  2.6355e+02,  2.9012e+01,  1.3454e+02,\n",
       "          -1.0067e+01,  9.4938e+01,  4.8820e+00,  6.5140e+01, -1.0320e+01,\n",
       "           6.0282e+01,  2.0562e+00,  5.7093e+01, -1.0012e+01,  6.4383e+01,\n",
       "           1.3158e+00,  5.9257e+01, -9.0304e+00,  6.1933e+01,  1.0128e+00,\n",
       "           6.1166e+01, -7.4380e+00,  6.3947e+01,  1.4960e+00,  6.1217e+01,\n",
       "          -4.2892e+00,  6.3573e+01,  2.9168e+00,  6.3293e+01, -3.1018e+00,\n",
       "           6.5609e+01,  1.4026e+00,  6.5154e+01, -2.0179e+00,  6.6700e+01,\n",
       "           1.0831e+00,  6.9832e+01], dtype=torch.float64),\n",
       "  tensor([[ 6.6503e+00, -1.0135e-03,  1.0730e-02,  ..., -3.6736e+00,\n",
       "            2.5956e-01, -3.9861e+00],\n",
       "          [-1.0135e-03,  6.6355e+00, -7.9514e-04,  ...,  2.4621e-01,\n",
       "           -1.8379e-02,  2.7247e-01],\n",
       "          [ 1.0730e-02, -7.9514e-04,  6.6462e+00,  ..., -2.1316e+00,\n",
       "            2.1279e-01, -2.5719e+00],\n",
       "          ...,\n",
       "          [-3.6736e+00,  2.4621e-01, -2.1316e+00,  ...,  1.5292e+03,\n",
       "           -2.7041e+01,  1.4650e+03],\n",
       "          [ 2.5956e-01, -1.8379e-02,  2.1279e-01,  ..., -2.7041e+01,\n",
       "            2.3355e+01, -3.6074e+01],\n",
       "          [-3.9861e+00,  2.7247e-01, -2.5719e+00,  ...,  1.4650e+03,\n",
       "           -3.6074e+01,  1.8228e+03]], dtype=torch.float64)],\n",
       " [tensor(0.0352),\n",
       "  tensor(44.),\n",
       "  tensor([ 3.1414e-01,  8.3197e-02,  8.5839e-02,  7.3538e-04,  1.7227e+03,\n",
       "           8.8588e+04,  1.6970e+03,  4.7768e+04,  3.2324e+03,  3.7680e+05,\n",
       "           1.0003e-01,  8.0819e-04, -1.7570e-04,  7.4840e-03, -2.4675e-04,\n",
       "           2.3438e-03,  1.2522e+02, -2.1652e+02,  4.0768e+03,  1.2578e+02,\n",
       "           4.1490e+02, -2.9065e+01,  2.8144e+02,  3.4240e+01,  1.2553e+02,\n",
       "          -8.4017e+00,  1.0961e+02,  9.6964e+00,  7.4553e+01, -9.0140e+00,\n",
       "           7.7438e+01,  5.1146e+00,  6.7101e+01, -9.4266e+00,  7.9338e+01,\n",
       "           5.3455e+00,  7.1437e+01, -7.9935e+00,  7.6306e+01,  4.3261e+00,\n",
       "           8.3502e+01, -4.5491e+00,  8.3028e+01,  1.9517e+00,  7.3970e+01,\n",
       "          -2.4021e+00,  6.3818e+01,  2.7804e+00,  6.2417e+01, -1.5224e+00,\n",
       "           5.3184e+01,  1.3324e+00,  6.2798e+01, -2.1264e+00,  7.2889e+01,\n",
       "           2.7498e-01,  9.0247e+01], dtype=torch.float64),\n",
       "  tensor([[ 2.6793e+00, -4.6522e-04,  7.6202e-03,  ..., -2.4429e+00,\n",
       "            2.5881e-01, -3.8699e+00],\n",
       "          [-4.6522e-04,  2.6688e+00, -3.5264e-04,  ...,  6.3474e-02,\n",
       "           -1.7943e-02,  1.3736e-01],\n",
       "          [ 7.6202e-03, -3.5264e-04,  2.6755e+00,  ..., -1.8512e+00,\n",
       "            1.7084e-01, -2.8554e+00],\n",
       "          ...,\n",
       "          [-2.4429e+00,  6.3474e-02, -1.8512e+00,  ...,  1.5453e+03,\n",
       "            2.4278e+01,  1.3301e+03],\n",
       "          [ 2.5881e-01, -1.7943e-02,  1.7084e-01,  ...,  2.4278e+01,\n",
       "            2.4474e+01, -5.6215e+01],\n",
       "          [-3.8699e+00,  1.3736e-01, -2.8554e+00,  ...,  1.3301e+03,\n",
       "           -5.6215e+01,  2.2933e+03]], dtype=torch.float64)],\n",
       " [tensor(0.2360),\n",
       "  tensor(88.),\n",
       "  tensor([ 3.8479e-01,  8.3949e-02,  1.2857e-01,  1.9461e-03,  2.1250e+03,\n",
       "           2.5752e+05,  2.0972e+03,  8.8861e+04,  4.3301e+03,  1.0718e+06,\n",
       "           1.0776e-01,  1.7579e-03, -9.2027e-04,  1.0049e-02, -5.6377e-04,\n",
       "           4.5407e-03,  1.2025e+02, -1.1552e+02,  2.3832e+03,  1.0444e+02,\n",
       "           5.0946e+02, -2.2395e+01,  3.5826e+02,  4.4137e+01,  2.1257e+02,\n",
       "          -7.6948e+00,  1.6388e+02,  1.8628e+01,  1.1293e+02, -1.1064e+01,\n",
       "           1.0434e+02,  1.4852e+01,  7.4815e+01, -1.1373e+01,  8.1184e+01,\n",
       "           1.0554e+01,  7.3110e+01, -9.4375e+00,  6.5892e+01,  6.4629e+00,\n",
       "           5.6064e+01, -7.8710e+00,  5.6313e+01,  3.9673e+00,  5.7655e+01,\n",
       "          -5.5047e+00,  5.9208e+01,  1.9603e+00,  5.2653e+01, -6.7252e+00,\n",
       "           5.6003e+01,  9.3998e-01,  5.2198e+01, -4.2821e+00,  5.8186e+01,\n",
       "          -1.9884e+00,  6.0241e+01], dtype=torch.float64),\n",
       "  tensor([[ 1.8679e-02, -4.7474e-04,  9.6456e-04,  ..., -1.1966e+00,\n",
       "            1.1986e-01, -1.8782e+00],\n",
       "          [-4.7474e-04,  1.2991e-02, -6.8311e-05,  ...,  9.0178e-02,\n",
       "           -8.6005e-03,  1.3883e-01],\n",
       "          [ 9.6456e-04, -6.8311e-05,  1.4699e-02,  ..., -2.7462e-01,\n",
       "            3.5817e-02, -4.4118e-01],\n",
       "          ...,\n",
       "          [-1.1966e+00,  9.0178e-02, -2.7462e-01,  ...,  1.0408e+03,\n",
       "            2.2809e+01,  1.3534e+03],\n",
       "          [ 1.1986e-01, -8.6005e-03,  3.5817e-02,  ...,  2.2809e+01,\n",
       "            1.3570e+01,  2.5535e+01],\n",
       "          [-1.8782e+00,  1.3883e-01, -4.4118e-01,  ...,  1.3534e+03,\n",
       "            2.5535e+01,  1.9788e+03]], dtype=torch.float64)],\n",
       " [tensor(0.0229),\n",
       "  tensor(32.),\n",
       "  tensor([ 3.2217e-01,  8.5561e-02,  9.2337e-02,  1.3882e-03,  1.9815e+03,\n",
       "           1.5545e+05,  1.8965e+03,  4.9467e+04,  3.9322e+03,  4.8919e+05,\n",
       "           1.0918e-01,  1.5832e-03, -6.5814e-04,  7.4753e-03, -5.4690e-04,\n",
       "           2.5514e-03,  1.2639e+02, -1.9290e+02,  3.9156e+03,  1.1202e+02,\n",
       "           4.4020e+02, -2.6146e+01,  3.8777e+02,  4.1886e+01,  1.7418e+02,\n",
       "          -1.6835e+01,  1.3139e+02,  1.5095e+01,  9.2748e+01, -1.3673e+01,\n",
       "           9.8805e+01,  1.0493e+01,  7.3229e+01, -1.0475e+01,  8.0185e+01,\n",
       "           1.0120e+01,  8.1313e+01, -8.6629e+00,  8.0185e+01,  6.7304e+00,\n",
       "           8.1316e+01, -6.5203e+00,  8.6700e+01,  3.2173e+00,  7.1028e+01,\n",
       "          -4.2066e+00,  7.0956e+01,  4.1555e+00,  8.4767e+01, -3.1630e+00,\n",
       "           7.4833e+01,  3.2252e+00,  6.8710e+01, -2.7061e+00,  7.7285e+01,\n",
       "          -1.3421e+00,  8.9631e+01], dtype=torch.float64),\n",
       "  tensor([[ 1.3000e+01, -3.4020e-04,  3.5434e-03,  ..., -2.2851e+00,\n",
       "            1.4555e-01, -3.0549e+00],\n",
       "          [-3.4020e-04,  1.2993e+01, -1.9612e-04,  ...,  1.4242e-01,\n",
       "           -8.8853e-03,  1.2166e-01],\n",
       "          [ 3.5434e-03, -1.9612e-04,  1.2997e+01,  ..., -1.2605e+00,\n",
       "            9.0029e-02, -2.0602e+00],\n",
       "          ...,\n",
       "          [-2.2851e+00,  1.4242e-01, -1.2605e+00,  ...,  1.5871e+03,\n",
       "           -4.6907e+01,  1.6591e+03],\n",
       "          [ 1.4555e-01, -8.8853e-03,  9.0029e-02,  ..., -4.6907e+01,\n",
       "            2.6733e+01, -5.9263e+01],\n",
       "          [-3.0549e+00,  1.2166e-01, -2.0602e+00,  ...,  1.6591e+03,\n",
       "           -5.9263e+01,  2.5649e+03]], dtype=torch.float64)],\n",
       " [tensor(0.2327),\n",
       "  tensor(155.),\n",
       "  tensor([ 3.9123e-01,  8.9611e-02,  1.3742e-01,  3.3515e-03,  2.4455e+03,\n",
       "           5.8467e+05,  2.4814e+03,  1.5454e+05,  5.1798e+03,  2.2351e+06,\n",
       "           1.0454e-01,  3.4154e-03, -4.0944e-04,  1.2254e-02, -6.6892e-04,\n",
       "           6.6653e-03,  1.2408e+02, -1.2427e+02,  6.5922e+03,  8.6405e+01,\n",
       "           7.4309e+02, -4.9265e+00,  5.5190e+02,  2.8451e+01,  2.6204e+02,\n",
       "           1.4713e+00,  1.8404e+02,  1.2114e+01,  1.5027e+02, -3.0484e+00,\n",
       "           1.3329e+02,  9.7336e+00,  9.9934e+01, -4.1685e+00,  9.4519e+01,\n",
       "           7.0479e+00,  8.8467e+01, -4.2231e+00,  8.7054e+01,  4.9139e+00,\n",
       "           7.9425e+01, -2.3362e+00,  7.5756e+01,  1.5340e+00,  6.3659e+01,\n",
       "          -3.6775e+00,  6.1470e+01,  6.3106e-01,  5.4881e+01, -2.9501e+00,\n",
       "           5.8261e+01, -5.0419e-02,  6.0788e+01, -1.6655e+00,  6.2822e+01,\n",
       "           1.3602e-01,  6.3033e+01], dtype=torch.float64),\n",
       "  tensor([[ 2.8170e-03, -5.3681e-05,  1.0966e-03,  ..., -2.7229e-01,\n",
       "            1.0450e-01, -1.2497e-01],\n",
       "          [-5.3681e-05,  3.7729e-05, -1.7233e-04,  ...,  6.9727e-02,\n",
       "            1.4087e-02,  3.7628e-02],\n",
       "          [ 1.0966e-03, -1.7233e-04,  3.6062e-03,  ..., -1.7266e-01,\n",
       "            1.5755e-02,  1.1206e-01],\n",
       "          ...,\n",
       "          [-2.7229e-01,  6.9727e-02, -1.7266e-01,  ...,  4.8138e+02,\n",
       "            3.5190e+01,  3.9488e+02],\n",
       "          [ 1.0450e-01,  1.4087e-02,  1.5755e-02,  ...,  3.5190e+01,\n",
       "            2.2427e+01,  2.6698e+01],\n",
       "          [-1.2497e-01,  3.7628e-02,  1.1206e-01,  ...,  3.9488e+02,\n",
       "            2.6698e+01,  3.8523e+02]], dtype=torch.float64)],\n",
       " [tensor(0.0056),\n",
       "  tensor(33.),\n",
       "  tensor([ 4.6841e-01,  7.6491e-02,  1.0553e-01,  1.5684e-03,  2.4910e+03,\n",
       "           2.8824e+05,  2.2392e+03,  6.2653e+04,  5.0606e+03,  7.7454e+05,\n",
       "           1.3610e-01,  2.9127e-03, -1.5553e-04,  6.9241e-03, -3.4279e-04,\n",
       "           3.1527e-03,  1.2018e+02, -1.1773e+02,  2.1202e+03,  9.1979e+01,\n",
       "           4.5562e+02, -2.2922e+01,  3.7125e+02,  4.4646e+01,  1.8648e+02,\n",
       "          -8.1553e+00,  1.4995e+02,  2.2906e+01,  9.9073e+01, -9.7716e+00,\n",
       "           1.0498e+02,  1.8320e+01,  7.0851e+01, -1.1470e+01,  7.1641e+01,\n",
       "           1.3619e+01,  6.4483e+01, -9.7967e+00,  6.0293e+01,  1.1284e+01,\n",
       "           4.9979e+01, -9.3265e+00,  4.7911e+01,  5.7136e+00,  4.7856e+01,\n",
       "          -6.4163e+00,  4.4036e+01,  3.8184e+00,  4.0965e+01, -6.4319e+00,\n",
       "           4.7063e+01,  2.0657e+00,  4.7411e+01, -5.2470e+00,  4.6587e+01,\n",
       "          -1.9616e-01,  4.4085e+01], dtype=torch.float64),\n",
       "  tensor([[ 1.1350e+01, -1.2152e-03, -9.2811e-04,  ..., -9.2248e-01,\n",
       "            3.9787e-01, -8.2314e-01],\n",
       "          [-1.2152e-03,  1.1340e+01,  1.9255e-04,  ...,  1.3857e-01,\n",
       "           -4.2112e-02,  1.4057e-01],\n",
       "          [-9.2811e-04,  1.9255e-04,  1.1341e+01,  ...,  9.8554e-02,\n",
       "           -3.9516e-02, -8.9662e-02],\n",
       "          ...,\n",
       "          [-9.2248e-01,  1.3857e-01,  9.8554e-02,  ...,  3.5630e+02,\n",
       "           -4.2172e+01,  3.3622e+02],\n",
       "          [ 3.9787e-01, -4.2112e-02, -3.9516e-02,  ..., -4.2172e+01,\n",
       "            3.4654e+01, -2.2964e+01],\n",
       "          [-8.2314e-01,  1.4057e-01, -8.9662e-02,  ...,  3.3622e+02,\n",
       "           -2.2964e+01,  4.7581e+02]], dtype=torch.float64)],\n",
       " [tensor(0.0594),\n",
       "  tensor(58.),\n",
       "  tensor([ 3.7128e-01,  8.3860e-02,  1.1987e-01,  1.6299e-03,  1.9729e+03,\n",
       "           1.7043e+05,  1.9463e+03,  5.9104e+04,  3.9970e+03,  6.4759e+05,\n",
       "           1.0300e-01,  1.3782e-03, -1.0125e-03,  8.9940e-03, -1.3607e-03,\n",
       "           4.1356e-03,  1.1703e+02, -1.4328e+02,  2.1689e+03,  1.1160e+02,\n",
       "           4.5499e+02, -2.4204e+01,  3.8104e+02,  5.2225e+01,  1.7584e+02,\n",
       "          -8.9686e+00,  1.2121e+02,  1.9033e+01,  9.6192e+01, -1.0933e+01,\n",
       "           1.1802e+02,  1.3632e+01,  7.4102e+01, -1.2832e+01,  7.1848e+01,\n",
       "           1.0222e+01,  6.7686e+01, -1.0172e+01,  7.2428e+01,  7.6354e+00,\n",
       "           6.5696e+01, -1.0143e+01,  6.5083e+01,  2.8453e+00,  6.2355e+01,\n",
       "          -6.2644e+00,  6.1881e+01,  3.2467e+00,  5.7402e+01, -7.2563e+00,\n",
       "           5.9270e+01,  8.3825e-01,  5.8066e+01, -3.5101e+00,  5.9307e+01,\n",
       "          -8.9748e-01,  6.9468e+01], dtype=torch.float64),\n",
       "  tensor([[ 4.7087e-01, -5.7705e-04,  2.2936e-03,  ..., -2.4065e+00,\n",
       "            5.2489e-02, -4.0859e+00],\n",
       "          [-5.7705e-04,  4.6323e-01, -1.0170e-04,  ...,  1.0329e-01,\n",
       "           -7.5498e-03,  2.0761e-01],\n",
       "          [ 2.2936e-03, -1.0170e-04,  4.6596e-01,  ..., -1.0583e+00,\n",
       "            1.1698e-02, -1.8944e+00],\n",
       "          ...,\n",
       "          [-2.4065e+00,  1.0329e-01, -1.0583e+00,  ...,  1.3693e+03,\n",
       "           -2.1961e+00,  2.0120e+03],\n",
       "          [ 5.2489e-02, -7.5498e-03,  1.1698e-02,  ..., -2.1961e+00,\n",
       "            8.5552e+00, -2.2679e+01],\n",
       "          [-4.0859e+00,  2.0761e-01, -1.8944e+00,  ...,  2.0120e+03,\n",
       "           -2.2679e+01,  3.4013e+03]], dtype=torch.float64)]]"
      ]
     },
     "execution_count": 165,
     "metadata": {},
     "output_type": "execute_result"
    }
   ],
   "source": [
    "GMM_online"
   ]
  },
  {
   "cell_type": "code",
   "execution_count": null,
   "metadata": {},
   "outputs": [
    {
     "data": {
      "text/plain": [
       "-168833.03952049155"
      ]
     },
     "execution_count": 166,
     "metadata": {},
     "output_type": "execute_result"
    }
   ],
   "source": [
    "ll_online = log_likelihood(GMM_online, X_test_t, 'torch')\n",
    "ll_online"
   ]
  },
  {
   "cell_type": "code",
   "execution_count": null,
   "metadata": {},
   "outputs": [
    {
     "data": {
      "text/plain": [
       "2.1266674713964187"
      ]
     },
     "execution_count": 167,
     "metadata": {},
     "output_type": "execute_result"
    }
   ],
   "source": [
    "(ll_online - ll_sklearn)/ll_sklearn"
   ]
  },
  {
   "cell_type": "markdown",
   "metadata": {},
   "source": [
    "## PCA"
   ]
  },
  {
   "cell_type": "code",
   "execution_count": 290,
   "metadata": {},
   "outputs": [],
   "source": [
    "data_features = data_noiseless[:, :-2]\n",
    "data_labels = data_noiseless[:, -2]\n",
    "n_neighbors = 20\n",
    "\n",
    "NN = NearestNeighbors(n_neighbors=n_neighbors)\n",
    "NN.fit(data_features)\n",
    "\n",
    "_, indices = NN.kneighbors(data_features)\n",
    "NN_features = data_features[indices]\n",
    "NN_labels = data_labels[indices]\n",
    "\n",
    "scaler = StandardScaler(with_std=False)\n",
    "n_components = 8\n",
    "pca = PCA(n_components=n_components)"
   ]
  },
  {
   "cell_type": "code",
   "execution_count": 291,
   "metadata": {},
   "outputs": [],
   "source": [
    "data_approx = np.zeros(data_features.shape)\n",
    "\n",
    "for i in range(NN_features.shape[0]):\n",
    "    X_scaled = scaler.fit_transform(NN_features[i, :, :])\n",
    "    mean = scaler.mean_.reshape(-1, 1)\n",
    "\n",
    "    pca.fit(X_scaled)\n",
    "    U = pca.components_.reshape(57, -1)\n",
    "    r = U.T @ X_scaled[0].reshape(-1, 1)\n",
    "    X_app = U @ r\n",
    "    data_approx[i] = X_app.reshape(-1,) + mean.reshape(-1)"
   ]
  },
  {
   "cell_type": "code",
   "execution_count": 292,
   "metadata": {},
   "outputs": [],
   "source": [
    "data_approx2 = np.zeros(data_features.shape)\n",
    "\n",
    "for i in range(NN_features.shape[0]):\n",
    "    X_scaled = scaler.fit_transform(NN_features[i, :, :])\n",
    "    mean = scaler.mean_\n",
    "\n",
    "    X_trans = pca.fit_transform(X_scaled)\n",
    "    X_app = pca.inverse_transform(X_trans)[0]\n",
    "    data_approx2[i] = X_app.reshape(-1,) + mean"
   ]
  },
  {
   "cell_type": "code",
   "execution_count": 293,
   "metadata": {},
   "outputs": [
    {
     "name": "stdout",
     "output_type": "stream",
     "text": [
      "0.7\n"
     ]
    }
   ],
   "source": [
    "classifier = RandomForestClassifier(criterion = 'log_loss')\n",
    "X_train, X_test, y_train, y_test = train_test_split(data_features, data_labels, test_size=0.2, random_state=0)\n",
    "classifier.fit(X_train, y_train)\n",
    "y_pred = classifier.predict(X_test)\n",
    "accuracy_raw = accuracy_score(y_test, y_pred)\n",
    "print(accuracy_raw)"
   ]
  },
  {
   "cell_type": "code",
   "execution_count": 294,
   "metadata": {},
   "outputs": [
    {
     "name": "stdout",
     "output_type": "stream",
     "text": [
      "0.28\n"
     ]
    }
   ],
   "source": [
    "X_train_approx, X_test_approx, y_train_approx, y_test_approx = train_test_split(data_approx, data_labels, test_size=0.2, random_state=0)\n",
    "#classifier.fit(X_train_approx, y_train_approx)\n",
    "y_pred_approx = classifier.predict(X_test_approx)\n",
    "accuracy_approx = accuracy_score(y_test_approx, y_pred_approx)\n",
    "print(accuracy_approx)"
   ]
  },
  {
   "cell_type": "code",
   "execution_count": 295,
   "metadata": {},
   "outputs": [
    {
     "name": "stdout",
     "output_type": "stream",
     "text": [
      "0.555\n"
     ]
    }
   ],
   "source": [
    "X_train_approx, X_test_approx, y_train_approx, y_test_approx = train_test_split(data_approx2, data_labels, test_size=0.2, random_state=0)\n",
    "#classifier.fit(X_train_approx, y_train_approx)\n",
    "y_pred_approx = classifier.predict(X_test_approx)\n",
    "accuracy_approx = accuracy_score(y_test_approx, y_pred_approx)\n",
    "print(accuracy_approx)"
   ]
  },
  {
   "cell_type": "code",
   "execution_count": 296,
   "metadata": {},
   "outputs": [
    {
     "data": {
      "text/plain": [
       "0.20714285714285702"
      ]
     },
     "execution_count": 296,
     "metadata": {},
     "output_type": "execute_result"
    }
   ],
   "source": [
    "np.abs((accuracy_approx - accuracy_raw))/accuracy_raw"
   ]
  },
  {
   "cell_type": "code",
   "execution_count": 297,
   "metadata": {},
   "outputs": [],
   "source": [
    "lle = LocallyLinearEmbedding(n_neighbors=n_neighbors, n_components=n_components)\n",
    "X_scaled = scaler.fit_transform(data_features)\n",
    "data_approx3 = lle.fit_transform(X_scaled)"
   ]
  },
  {
   "cell_type": "code",
   "execution_count": 298,
   "metadata": {},
   "outputs": [
    {
     "name": "stdout",
     "output_type": "stream",
     "text": [
      "0.275\n"
     ]
    }
   ],
   "source": [
    "X_train_approx, X_test_approx, y_train_approx, y_test_approx = train_test_split(data_approx3, data_labels, test_size=0.2, random_state=0)\n",
    "classifier.fit(X_train_approx, y_train_approx)\n",
    "y_pred_approx = classifier.predict(X_test_approx)\n",
    "accuracy_approx = accuracy_score(y_test_approx, y_pred_approx)\n",
    "print(accuracy_approx)"
   ]
  }
 ],
 "metadata": {
  "kernelspec": {
   "display_name": "Python 3",
   "language": "python",
   "name": "python3"
  },
  "language_info": {
   "codemirror_mode": {
    "name": "ipython",
    "version": 3
   },
   "file_extension": ".py",
   "mimetype": "text/x-python",
   "name": "python",
   "nbconvert_exporter": "python",
   "pygments_lexer": "ipython3",
   "version": "3.11.5"
  }
 },
 "nbformat": 4,
 "nbformat_minor": 2
}
