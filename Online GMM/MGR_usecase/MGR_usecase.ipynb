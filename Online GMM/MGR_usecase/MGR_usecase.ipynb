{
 "cells": [
  {
   "cell_type": "code",
   "execution_count": 4,
   "metadata": {},
   "outputs": [],
   "source": [
    "import numpy as np"
   ]
  },
  {
   "cell_type": "code",
   "execution_count": 5,
   "metadata": {},
   "outputs": [],
   "source": [
    "dataset = np.load('MGR.npy')\n",
    "domain_names = ['Noiseless', \"buccaneer2\", \"destroyerengine\", \"f16\", \"factory2\"]"
   ]
  },
  {
   "cell_type": "code",
   "execution_count": 6,
   "metadata": {},
   "outputs": [],
   "source": [
    "data_noiseless = dataset[:1000, :]\n",
    "# feature column 17 is only zeros\n",
    "data_noiseless = np.delete(data_noiseless, 17, axis=1)\n",
    "\n",
    "# separation between training and validation data\n",
    "data_noiseless = np.random.permutation(data_noiseless)\n",
    "prop_train = 0.8\n",
    "data_train = data_noiseless[:int(prop_train * len(data_noiseless)), :]\n",
    "data_test = data_noiseless[int(prop_train * len(data_noiseless)):, :]\n",
    "\n",
    "\n",
    "# Features of the noiseless data\n",
    "X_train = data_train[:, :-2]\n",
    "X_test = data_test[:, :-2]\n",
    "\n",
    "# Labels of the noiseless data\n",
    "y_train = data_train[:, -2]\n",
    "y_test = data_test[:, -2]\n"
   ]
  },
  {
   "cell_type": "markdown",
   "metadata": {},
   "source": [
    "Log likelihood function"
   ]
  },
  {
   "cell_type": "code",
   "execution_count": 7,
   "metadata": {},
   "outputs": [],
   "source": [
    "from sklearn.mixture import GaussianMixture\n",
    "\n",
    "GMM = GaussianMixture(n_components=10, random_state=0).fit(X_train)\n"
   ]
  },
  {
   "cell_type": "code",
   "execution_count": 14,
   "metadata": {},
   "outputs": [
    {
     "data": {
      "text/plain": [
       "(1, 57)"
      ]
     },
     "execution_count": 14,
     "metadata": {},
     "output_type": "execute_result"
    }
   ],
   "source": [
    "X_test[0].reshape(1, -1).shape"
   ]
  },
  {
   "cell_type": "code",
   "execution_count": 12,
   "metadata": {},
   "outputs": [
    {
     "data": {
      "text/plain": [
       "array([[3.36370278e-005, 0.00000000e+000, 1.72799362e-026,\n",
       "        9.99965135e-001, 1.22748706e-006, 0.00000000e+000,\n",
       "        6.66309044e-253, 0.00000000e+000, 0.00000000e+000,\n",
       "        0.00000000e+000]])"
      ]
     },
     "execution_count": 12,
     "metadata": {},
     "output_type": "execute_result"
    }
   ],
   "source": [
    "GMM.predict_proba(X_test[0].reshape(1, -1))"
   ]
  },
  {
   "cell_type": "code",
   "execution_count": 20,
   "metadata": {},
   "outputs": [
    {
     "data": {
      "text/plain": [
       "array([-188.03557791, -191.98615617, -161.44506797, -201.97627843,\n",
       "       -177.99419593,  148.21408187, -229.35603463, -163.03908295,\n",
       "       -173.92389896, -182.62227498])"
      ]
     },
     "execution_count": 20,
     "metadata": {},
     "output_type": "execute_result"
    }
   ],
   "source": [
    "GMM.score_samples(X_test[:10].reshape(10, -1))"
   ]
  },
  {
   "cell_type": "code",
   "execution_count": null,
   "metadata": {},
   "outputs": [],
   "source": [
    "def log_likelihood(GMM, X):\n",
    "    for gauss in GMM:\n",
    "        "
   ]
  }
 ],
 "metadata": {
  "kernelspec": {
   "display_name": "Python 3",
   "language": "python",
   "name": "python3"
  },
  "language_info": {
   "codemirror_mode": {
    "name": "ipython",
    "version": 3
   },
   "file_extension": ".py",
   "mimetype": "text/x-python",
   "name": "python",
   "nbconvert_exporter": "python",
   "pygments_lexer": "ipython3",
   "version": "3.11.5"
  }
 },
 "nbformat": 4,
 "nbformat_minor": 2
}
