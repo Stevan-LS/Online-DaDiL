{
 "cells": [
  {
   "cell_type": "code",
   "execution_count": null,
   "metadata": {},
   "outputs": [],
   "source": [
    "import sys\n",
    "\n",
    "import torch  # noqa: E402\n",
    "import random  # noqa: E402\n",
    "import numpy as np  # noqa: E402\n",
    "import matplotlib.pyplot as plt\n",
    "import ot\n",
    "import importlib\n",
    "\n",
    "from pydil.utils.Online_GMM import Online_GMM\n",
    "from pydil.utils.igmm_modif import IGMM\n",
    "\n",
    "from pydil.ipms.ot_ipms import (  # noqa: E402\n",
    "    JointWassersteinDistance\n",
    ")\n",
    "from pydil.dadil.labeled_dictionary import LabeledDictionary  # noqa: E402\n",
    "from pydil.dadil.labeled_dictionary_GMM import LabeledDictionaryGMM\n",
    "from pydil.ot_utils.barycenters import wasserstein_barycenter  # noqa: E402\n",
    "from pydil.torch_utils.measures import (  # noqa: E402\n",
    "    UnsupervisedDatasetMeasure,\n",
    "    SupervisedDatasetMeasure\n",
    ")\n",
    "\n",
    "from sklearn.svm import SVC\n",
    "from sklearn.ensemble import RandomForestClassifier\n",
    "from sklearn.manifold import TSNE\n",
    "from sklearn.metrics import accuracy_score\n",
    "from sklearn.model_selection import train_test_split\n",
    "from sklearn.mixture import GaussianMixture"
   ]
  },
  {
   "cell_type": "code",
   "execution_count": 3,
   "metadata": {},
   "outputs": [],
   "source": [
    "list_of_datasets = []\n",
    "for i in range(1, 11):\n",
    "    dataset = np.load(f'data/toy_non_linear_100d_dataset_{i}.npy')\n",
    "    list_of_datasets.append(dataset)"
   ]
  },
  {
   "cell_type": "code",
   "execution_count": 6,
   "metadata": {},
   "outputs": [],
   "source": [
    "n_samples = 1000\n",
    "batch_size = 200\n",
    "n_atoms = 3\n",
    "n_classes = 10"
   ]
  }
 ],
 "metadata": {
  "kernelspec": {
   "display_name": "Python 3",
   "language": "python",
   "name": "python3"
  },
  "language_info": {
   "codemirror_mode": {
    "name": "ipython",
    "version": 3
   },
   "file_extension": ".py",
   "mimetype": "text/x-python",
   "name": "python",
   "nbconvert_exporter": "python",
   "pygments_lexer": "ipython3",
   "version": "3.11.5"
  }
 },
 "nbformat": 4,
 "nbformat_minor": 2
}
