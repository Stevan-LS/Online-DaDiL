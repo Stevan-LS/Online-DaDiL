{
 "cells": [
  {
   "cell_type": "code",
   "execution_count": 1,
   "metadata": {},
   "outputs": [
    {
     "name": "stderr",
     "output_type": "stream",
     "text": [
      "C:\\Users\\SL276123\\AppData\\Local\\Packages\\PythonSoftwareFoundation.Python.3.11_qbz5n2kfra8p0\\LocalCache\\local-packages\\Python311\\site-packages\\pydub\\utils.py:170: RuntimeWarning: Couldn't find ffmpeg or avconv - defaulting to ffmpeg, but may not work\n",
      "  warn(\"Couldn't find ffmpeg or avconv - defaulting to ffmpeg, but may not work\", RuntimeWarning)\n",
      "C:\\Users\\SL276123\\AppData\\Local\\Packages\\PythonSoftwareFoundation.Python.3.11_qbz5n2kfra8p0\\LocalCache\\local-packages\\Python311\\site-packages\\tqdm\\auto.py:21: TqdmWarning: IProgress not found. Please update jupyter and ipywidgets. See https://ipywidgets.readthedocs.io/en/stable/user_install.html\n",
      "  from .autonotebook import tqdm as notebook_tqdm\n"
     ]
    }
   ],
   "source": [
    "import os\n",
    "import pydub\n",
    "import librosa\n",
    "import numpy as np\n",
    "import librosa.display\n",
    "import matplotlib.pyplot as plt\n",
    "from tqdm.auto import tqdm"
   ]
  },
  {
   "cell_type": "code",
   "execution_count": 2,
   "metadata": {},
   "outputs": [
    {
     "name": "stdout",
     "output_type": "stream",
     "text": [
      "Genre: blues, Noise: factory2\n",
      "Class: 0, Domain: 0\n"
     ]
    },
    {
     "name": "stderr",
     "output_type": "stream",
     "text": [
      "  0%|          | 0/100 [00:00<?, ?it/s]"
     ]
    },
    {
     "name": "stderr",
     "output_type": "stream",
     "text": [
      "100%|██████████| 100/100 [01:31<00:00,  1.09it/s]\n"
     ]
    },
    {
     "name": "stdout",
     "output_type": "stream",
     "text": [
      "Genre: classical, Noise: factory2\n",
      "Class: 1, Domain: 0\n"
     ]
    },
    {
     "name": "stderr",
     "output_type": "stream",
     "text": [
      "100%|██████████| 100/100 [01:26<00:00,  1.16it/s]\n"
     ]
    },
    {
     "name": "stdout",
     "output_type": "stream",
     "text": [
      "Genre: country, Noise: factory2\n",
      "Class: 2, Domain: 0\n"
     ]
    },
    {
     "name": "stderr",
     "output_type": "stream",
     "text": [
      "100%|██████████| 100/100 [01:09<00:00,  1.44it/s]\n"
     ]
    },
    {
     "name": "stdout",
     "output_type": "stream",
     "text": [
      "Genre: disco, Noise: factory2\n",
      "Class: 3, Domain: 0\n"
     ]
    },
    {
     "name": "stderr",
     "output_type": "stream",
     "text": [
      "100%|██████████| 100/100 [01:07<00:00,  1.48it/s]\n"
     ]
    },
    {
     "name": "stdout",
     "output_type": "stream",
     "text": [
      "Genre: hiphop, Noise: factory2\n",
      "Class: 4, Domain: 0\n"
     ]
    },
    {
     "name": "stderr",
     "output_type": "stream",
     "text": [
      "100%|██████████| 100/100 [01:24<00:00,  1.18it/s]\n"
     ]
    },
    {
     "name": "stdout",
     "output_type": "stream",
     "text": [
      "Genre: jazz, Noise: factory2\n",
      "Class: 5, Domain: 0\n"
     ]
    },
    {
     "name": "stderr",
     "output_type": "stream",
     "text": [
      " 54%|█████▍    | 54/100 [00:42<00:39,  1.16it/s]C:\\Users\\SL276123\\AppData\\Local\\Temp\\ipykernel_15928\\778809428.py:67: UserWarning: PySoundFile failed. Trying audioread instead.\n",
      "  (sig, rate) = librosa.load(os.path.join(gen_dir, filename), mono=True, duration=MUSIC_DURATION)\n",
      "C:\\Users\\SL276123\\AppData\\Local\\Packages\\PythonSoftwareFoundation.Python.3.11_qbz5n2kfra8p0\\LocalCache\\local-packages\\Python311\\site-packages\\librosa\\core\\audio.py:183: FutureWarning: librosa.core.audio.__audioread_load\n",
      "\tDeprecated as of librosa version 0.10.0.\n",
      "\tIt will be removed in librosa version 1.0.\n",
      "  y, sr_native = __audioread_load(path, offset, duration, dtype)\n"
     ]
    },
    {
     "name": "stdout",
     "output_type": "stream",
     "text": [
      "Error while reading file jazz.00054.wav\n"
     ]
    },
    {
     "name": "stderr",
     "output_type": "stream",
     "text": [
      "100%|██████████| 100/100 [01:18<00:00,  1.27it/s]\n"
     ]
    },
    {
     "name": "stdout",
     "output_type": "stream",
     "text": [
      "Genre: metal, Noise: factory2\n",
      "Class: 6, Domain: 0\n"
     ]
    },
    {
     "name": "stderr",
     "output_type": "stream",
     "text": [
      "100%|██████████| 100/100 [01:15<00:00,  1.33it/s]\n"
     ]
    },
    {
     "name": "stdout",
     "output_type": "stream",
     "text": [
      "Genre: pop, Noise: factory2\n",
      "Class: 7, Domain: 0\n"
     ]
    },
    {
     "name": "stderr",
     "output_type": "stream",
     "text": [
      "100%|██████████| 100/100 [01:11<00:00,  1.39it/s]\n"
     ]
    },
    {
     "name": "stdout",
     "output_type": "stream",
     "text": [
      "Genre: reggae, Noise: factory2\n",
      "Class: 8, Domain: 0\n"
     ]
    },
    {
     "name": "stderr",
     "output_type": "stream",
     "text": [
      "100%|██████████| 100/100 [01:13<00:00,  1.36it/s]\n"
     ]
    },
    {
     "name": "stdout",
     "output_type": "stream",
     "text": [
      "Genre: rock, Noise: factory2\n",
      "Class: 9, Domain: 0\n"
     ]
    },
    {
     "name": "stderr",
     "output_type": "stream",
     "text": [
      "100%|██████████| 100/100 [01:13<00:00,  1.35it/s]\n"
     ]
    }
   ],
   "source": [
    "AMPLITUDE = 32767\n",
    "MUSIC_DURATION = 30  # Following [1]\n",
    "NOISE_DURATION = 235 # Following [2]\n",
    "FRAME_WIDTH = 0.025  # Following [3]\n",
    "FRAME_SHIFT = 0.010  # Following [3]\n",
    "\n",
    "def wav2im(sig, rate, out_path):\n",
    "    S = librosa.feature.melspectrogram(y=sig, sr=rate, hop_length=int(FRAME_SHIFT * rate), n_fft=int(FRAME_WIDTH * rate))\n",
    "\n",
    "    fig, ax = plt.subplots(1, 1)\n",
    "    img = librosa.display.specshow(\n",
    "        librosa.amplitude_to_db(np.abs(S), ref=np.max),\n",
    "        y_axis='log',\n",
    "        x_axis='time', ax=ax)\n",
    "    ax.axis('off')\n",
    "    ax.axis('tight')\n",
    "    plt.tight_layout()\n",
    "    ax.set_axis_off()\n",
    "    plt.savefig(out_path, bbox_inches='tight', pad_inches=0, dpi=np.abs(S).shape[0], transparent=False)\n",
    "    plt.close('all')\n",
    "\n",
    "def overlay_signals(sig1, rate1, sig2, rate2):\n",
    "    sig1_int32 = (sig1 * AMPLITUDE).astype(np.int16)\n",
    "    sig2_int32 = (sig2 * AMPLITUDE/10).astype(np.int16)\n",
    "\n",
    "    asegment1 = pydub.AudioSegment(\n",
    "        sig1_int32.tobytes(),\n",
    "        frame_rate=rate1,\n",
    "        sample_width=2,\n",
    "        channels=1\n",
    "    )\n",
    "\n",
    "    asegment2 = pydub.AudioSegment(\n",
    "        sig2_int32.tobytes(),\n",
    "        frame_rate=rate2,\n",
    "        sample_width=2,\n",
    "        channels=1\n",
    "    )\n",
    "\n",
    "    overlayed = asegment1.overlay(asegment2)\n",
    "    sig = np.array(overlayed.get_array_of_samples()).reshape(-1,).astype(float) / AMPLITUDE\n",
    "    rate = overlayed.frame_rate\n",
    "\n",
    "    return  overlayed, sig, rate\n",
    "\n",
    "\n",
    "np.random.seed(0)\n",
    "\n",
    "NOISE_PATH = './noises'\n",
    "MUSIC_PATH = './genres_original'\n",
    "OUT_PATH = \"./data/spectrograms\"\n",
    "NOISE_TYPES = [\n",
    "    \"factory2\"\n",
    "]\n",
    "GENRES = os.listdir(MUSIC_PATH)\n",
    "fmat = []\n",
    "\n",
    "i = 0\n",
    "for ndomain, noise_type in enumerate(NOISE_TYPES):\n",
    "    for nclass, genre in enumerate(GENRES):\n",
    "        gen_dir = os.path.join(MUSIC_PATH, genre)\n",
    "        filenames = os.listdir(gen_dir)\n",
    "        print(\"Genre: {}, Noise: {}\".format(genre, noise_type))\n",
    "        print(\"Class: {}, Domain: {}\".format(nclass, ndomain))\n",
    "        for filename in tqdm(filenames):\n",
    "            try:\n",
    "                (sig, rate) = librosa.load(os.path.join(gen_dir, filename), mono=True, duration=MUSIC_DURATION)\n",
    "            except:\n",
    "                print(\"Error while reading file {}\".format(filename))\n",
    "\n",
    "            if noise_type is not None:\n",
    "                (noise, nrate) = librosa.load(os.path.join(NOISE_PATH, noise_type + '.wav'), mono=True, duration=NOISE_DURATION)\n",
    "                _, sig, rate = overlay_signals(sig1=sig, rate1=rate, sig2=noise, rate2=nrate)\n",
    "\n",
    "            _noise_type = noise_type if noise_type is not None else 'original'\n",
    "            wav2im(sig, rate, out_path=os.path.join(OUT_PATH, _noise_type, genre, filename).replace('.wav', '') + '.jpg')"
   ]
  }
 ],
 "metadata": {
  "kernelspec": {
   "display_name": "Python 3",
   "language": "python",
   "name": "python3"
  },
  "language_info": {
   "codemirror_mode": {
    "name": "ipython",
    "version": 3
   },
   "file_extension": ".py",
   "mimetype": "text/x-python",
   "name": "python",
   "nbconvert_exporter": "python",
   "pygments_lexer": "ipython3",
   "version": "3.11.5"
  }
 },
 "nbformat": 4,
 "nbformat_minor": 2
}
